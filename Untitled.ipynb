{
 "cells": [
  {
   "cell_type": "code",
   "execution_count": 31,
   "id": "fd6dadbd",
   "metadata": {},
   "outputs": [],
   "source": [
    "from sympy import *     \n",
    "x, y, z, t = symbols('x y z t')   \n",
    "mo = 'grlex'\n",
    "div1 = poly(x**3 - 1)\n",
    "div2 = poly(x**2 + 1)\n",
    "div3 = poly(x**3 + 4)"
   ]
  },
  {
   "cell_type": "code",
   "execution_count": 35,
   "id": "7703efc5",
   "metadata": {},
   "outputs": [
    {
     "name": "stdout",
     "output_type": "stream",
     "text": [
      " 3    \n",
      "x  - 1\n"
     ]
    }
   ],
   "source": [
    "pprint(x**3-1)"
   ]
  },
  {
   "cell_type": "code",
   "execution_count": 21,
   "id": "1d4fe007",
   "metadata": {},
   "outputs": [
    {
     "data": {
      "text/latex": [
       "$\\displaystyle 1 + \\sqrt{2}$"
      ],
      "text/plain": [
       "1 + sqrt(2)"
      ]
     },
     "execution_count": 21,
     "metadata": {},
     "output_type": "execute_result"
    }
   ],
   "source": [
    "1+sqrt(2)"
   ]
  },
  {
   "cell_type": "code",
   "execution_count": 22,
   "id": "96a96aa7",
   "metadata": {},
   "outputs": [
    {
     "data": {
      "text/latex": [
       "$\\displaystyle \\theta_{2}$"
      ],
      "text/plain": [
       "theta2"
      ]
     },
     "execution_count": 22,
     "metadata": {},
     "output_type": "execute_result"
    }
   ],
   "source": [
    "theta\n"
   ]
  },
  {
   "cell_type": "code",
   "execution_count": null,
   "id": "40ae5bcf",
   "metadata": {},
   "outputs": [],
   "source": []
  },
  {
   "cell_type": "code",
   "execution_count": null,
   "id": "68c82600",
   "metadata": {},
   "outputs": [],
   "source": []
  }
 ],
 "metadata": {
  "kernelspec": {
   "display_name": "Python 3 (ipykernel)",
   "language": "python",
   "name": "python3"
  },
  "language_info": {
   "codemirror_mode": {
    "name": "ipython",
    "version": 3
   },
   "file_extension": ".py",
   "mimetype": "text/x-python",
   "name": "python",
   "nbconvert_exporter": "python",
   "pygments_lexer": "ipython3",
   "version": "3.9.5"
  }
 },
 "nbformat": 4,
 "nbformat_minor": 5
}
